{
 "cells": [
  {
   "cell_type": "code",
   "execution_count": null,
   "metadata": {},
   "outputs": [],
   "source": [
    "# Preliminary inputs\n",
    "wandb_key = None # Insert your wandb code here"
   ]
  },
  {
   "cell_type": "code",
   "execution_count": null,
   "metadata": {
    "execution": {
     "iopub.execute_input": "2023-11-30T16:17:56.265496Z",
     "iopub.status.busy": "2023-11-30T16:17:56.264738Z",
     "iopub.status.idle": "2023-11-30T16:17:56.384020Z",
     "shell.execute_reply": "2023-11-30T16:17:56.383092Z",
     "shell.execute_reply.started": "2023-11-30T16:17:56.265459Z"
    },
    "trusted": true
   },
   "outputs": [],
   "source": [
    "%load_ext autoreload\n",
    "%autoreload 2\n",
    "%matplotlib inline"
   ]
  },
  {
   "cell_type": "code",
   "execution_count": null,
   "metadata": {
    "execution": {
     "iopub.execute_input": "2023-11-30T16:17:56.386292Z",
     "iopub.status.busy": "2023-11-30T16:17:56.385978Z",
     "iopub.status.idle": "2023-11-30T16:17:56.502228Z",
     "shell.execute_reply": "2023-11-30T16:17:56.501007Z",
     "shell.execute_reply.started": "2023-11-30T16:17:56.386261Z"
    },
    "trusted": true
   },
   "outputs": [],
   "source": [
    "%cd /kaggle/working/"
   ]
  },
  {
   "cell_type": "code",
   "execution_count": null,
   "metadata": {
    "execution": {
     "iopub.execute_input": "2023-11-30T16:17:56.504314Z",
     "iopub.status.busy": "2023-11-30T16:17:56.503758Z",
     "iopub.status.idle": "2023-11-30T16:17:57.614857Z",
     "shell.execute_reply": "2023-11-30T16:17:57.613480Z",
     "shell.execute_reply.started": "2023-11-30T16:17:56.504273Z"
    },
    "trusted": true
   },
   "outputs": [],
   "source": [
    "!git clone https://github.com/KaziFahmi/EDM_Custom"
   ]
  },
  {
   "cell_type": "code",
   "execution_count": null,
   "metadata": {
    "execution": {
     "iopub.execute_input": "2023-11-30T16:17:57.618901Z",
     "iopub.status.busy": "2023-11-30T16:17:57.618465Z",
     "iopub.status.idle": "2023-11-30T16:17:57.745296Z",
     "shell.execute_reply": "2023-11-30T16:17:57.744193Z",
     "shell.execute_reply.started": "2023-11-30T16:17:57.618862Z"
    },
    "trusted": true
   },
   "outputs": [],
   "source": [
    "import sys\n",
    "sys.path.append('/kaggle/working/EDM_Custom')"
   ]
  },
  {
   "cell_type": "code",
   "execution_count": null,
   "metadata": {},
   "outputs": [],
   "source": [
    "%cd EDM_Custom/"
   ]
  },
  {
   "cell_type": "code",
   "execution_count": null,
   "metadata": {},
   "outputs": [],
   "source": [
    "!pip install -r requirements.txt"
   ]
  },
  {
   "cell_type": "code",
   "execution_count": null,
   "metadata": {
    "execution": {
     "iopub.execute_input": "2023-11-30T16:17:57.747331Z",
     "iopub.status.busy": "2023-11-30T16:17:57.746748Z",
     "iopub.status.idle": "2023-11-30T16:18:09.823120Z",
     "shell.execute_reply": "2023-11-30T16:18:09.821978Z",
     "shell.execute_reply.started": "2023-11-30T16:17:57.747298Z"
    },
    "trusted": true
   },
   "outputs": [],
   "source": [
    "!pip install hydra-core torch_geometric wandb pytorch_lightning omegaconf torchmetrics setuptools scikit_learn imageio matplotlib numpy pandas Pillow tqdm rdkit"
   ]
  },
  {
   "cell_type": "code",
   "execution_count": null,
   "metadata": {
    "execution": {
     "iopub.execute_input": "2023-11-30T16:18:09.825113Z",
     "iopub.status.busy": "2023-11-30T16:18:09.824782Z",
     "iopub.status.idle": "2023-11-30T16:18:09.954098Z",
     "shell.execute_reply": "2023-11-30T16:18:09.952963Z",
     "shell.execute_reply.started": "2023-11-30T16:18:09.825086Z"
    },
    "trusted": true
   },
   "outputs": [],
   "source": [
    "import sys\n",
    "import torch\n",
    "import pytorch_lightning as pl\n",
    "\n",
    "import os\n",
    "import warnings\n",
    "import pathlib\n",
    "from pytorch_lightning import Trainer\n",
    "from pytorch_lightning.callbacks import ModelCheckpoint\n",
    "from pytorch_lightning.utilities.warnings import PossibleUserWarning\n",
    "\n",
    "from midi.datasets import qm9_dataset, geom_dataset\n",
    "from midi.diffusion_model import FullDenoisingDiffusion\n",
    "from omegaconf import OmegaConf\n",
    "from hydra import compose, initialize"
   ]
  },
  {
   "cell_type": "code",
   "execution_count": null,
   "metadata": {
    "execution": {
     "iopub.execute_input": "2023-11-30T16:18:10.073766Z",
     "iopub.status.busy": "2023-11-30T16:18:10.073435Z",
     "iopub.status.idle": "2023-11-30T16:18:11.694255Z",
     "shell.execute_reply": "2023-11-30T16:18:11.693040Z",
     "shell.execute_reply.started": "2023-11-30T16:18:10.073736Z"
    },
    "trusted": true
   },
   "outputs": [],
   "source": [
    "!git pull origin main"
   ]
  },
  {
   "cell_type": "code",
   "execution_count": null,
   "metadata": {
    "execution": {
     "iopub.execute_input": "2023-11-30T16:18:11.696520Z",
     "iopub.status.busy": "2023-11-30T16:18:11.696124Z",
     "iopub.status.idle": "2023-11-30T16:18:12.844858Z",
     "shell.execute_reply": "2023-11-30T16:18:12.843693Z",
     "shell.execute_reply.started": "2023-11-30T16:18:11.696483Z"
    },
    "trusted": true
   },
   "outputs": [],
   "source": [
    "!dir"
   ]
  },
  {
   "cell_type": "code",
   "execution_count": null,
   "metadata": {
    "execution": {
     "iopub.execute_input": "2023-11-30T16:18:12.849393Z",
     "iopub.status.busy": "2023-11-30T16:18:12.849082Z",
     "iopub.status.idle": "2023-11-30T16:18:12.974948Z",
     "shell.execute_reply": "2023-11-30T16:18:12.973693Z",
     "shell.execute_reply.started": "2023-11-30T16:18:12.849367Z"
    },
    "trusted": true
   },
   "outputs": [],
   "source": [
    "config_path = \"EDM_Custom/configs\"  \n",
    "def load_hydra_configs(config_path):\n",
    "    with initialize(config_path=config_path):\n",
    "        cfg = compose(config_name=\"config\")\n",
    "    return cfg"
   ]
  },
  {
   "cell_type": "code",
   "execution_count": null,
   "metadata": {
    "execution": {
     "iopub.execute_input": "2023-11-30T16:18:12.976617Z",
     "iopub.status.busy": "2023-11-30T16:18:12.976298Z",
     "iopub.status.idle": "2023-11-30T16:18:13.084782Z",
     "shell.execute_reply": "2023-11-30T16:18:13.083801Z",
     "shell.execute_reply.started": "2023-11-30T16:18:12.976593Z"
    },
    "trusted": true
   },
   "outputs": [],
   "source": [
    "# %rm -rf /kaggle/working/EDM_Custom/checkpoints"
   ]
  },
  {
   "cell_type": "code",
   "execution_count": null,
   "metadata": {
    "execution": {
     "iopub.execute_input": "2023-11-30T16:18:13.086516Z",
     "iopub.status.busy": "2023-11-30T16:18:13.086109Z",
     "iopub.status.idle": "2023-11-30T16:18:13.706270Z",
     "shell.execute_reply": "2023-11-30T16:18:13.705254Z",
     "shell.execute_reply.started": "2023-11-30T16:18:13.086483Z"
    },
    "trusted": true
   },
   "outputs": [],
   "source": [
    "cfg = load_hydra_configs(config_path)"
   ]
  },
  {
   "cell_type": "code",
   "execution_count": null,
   "metadata": {
    "execution": {
     "iopub.execute_input": "2023-11-30T16:18:13.708273Z",
     "iopub.status.busy": "2023-11-30T16:18:13.707888Z",
     "iopub.status.idle": "2023-11-30T16:18:13.935643Z",
     "shell.execute_reply": "2023-11-30T16:18:13.934624Z",
     "shell.execute_reply.started": "2023-11-30T16:18:13.708236Z"
    },
    "trusted": true
   },
   "outputs": [],
   "source": [
    "dataset_config = cfg.dataset\n",
    "data_module = qm9_dataset.QM9DataModule(cfg)\n",
    "dataset_info = qm9_dataset.QM9infos(datamodule=data_module,cfg=cfg)"
   ]
  },
  {
   "cell_type": "code",
   "execution_count": null,
   "metadata": {
    "execution": {
     "iopub.execute_input": "2023-11-30T16:18:13.938683Z",
     "iopub.status.busy": "2023-11-30T16:18:13.937825Z",
     "iopub.status.idle": "2023-11-30T16:18:14.347946Z",
     "shell.execute_reply": "2023-11-30T16:18:14.346845Z",
     "shell.execute_reply.started": "2023-11-30T16:18:13.938645Z"
    },
    "trusted": true
   },
   "outputs": [],
   "source": [
    "model = FullDenoisingDiffusion(cfg=cfg, dataset_infos=dataset_info, train_smiles=[])"
   ]
  },
  {
   "cell_type": "code",
   "execution_count": null,
   "metadata": {
    "execution": {
     "iopub.execute_input": "2023-11-30T16:18:14.349686Z",
     "iopub.status.busy": "2023-11-30T16:18:14.349295Z",
     "iopub.status.idle": "2023-11-30T16:18:14.460342Z",
     "shell.execute_reply": "2023-11-30T16:18:14.459168Z",
     "shell.execute_reply.started": "2023-11-30T16:18:14.349646Z"
    },
    "trusted": true
   },
   "outputs": [],
   "source": [
    "params_to_ignore = ['module.model.train_smiles', 'module.model.dataset_infos']"
   ]
  },
  {
   "cell_type": "code",
   "execution_count": null,
   "metadata": {
    "execution": {
     "iopub.execute_input": "2023-11-30T16:18:14.462626Z",
     "iopub.status.busy": "2023-11-30T16:18:14.461681Z",
     "iopub.status.idle": "2023-11-30T16:18:14.578428Z",
     "shell.execute_reply": "2023-11-30T16:18:14.577458Z",
     "shell.execute_reply.started": "2023-11-30T16:18:14.462592Z"
    },
    "trusted": true
   },
   "outputs": [],
   "source": [
    "torch.nn.parallel.DistributedDataParallel._set_params_and_buffers_to_ignore_for_model(model, params_to_ignore)"
   ]
  },
  {
   "cell_type": "code",
   "execution_count": null,
   "metadata": {
    "execution": {
     "iopub.execute_input": "2023-11-30T16:18:14.580150Z",
     "iopub.status.busy": "2023-11-30T16:18:14.579796Z",
     "iopub.status.idle": "2023-11-30T16:18:14.690060Z",
     "shell.execute_reply": "2023-11-30T16:18:14.688899Z",
     "shell.execute_reply.started": "2023-11-30T16:18:14.580118Z"
    },
    "trusted": true
   },
   "outputs": [],
   "source": [
    "checkpoint_callback = ModelCheckpoint(dirpath=f\"checkpoints/{cfg.general.name}\",\n",
    "                                              filename='{epoch}',\n",
    "                                              monitor='val/epoch_NLL',\n",
    "                                              save_top_k=5,\n",
    "                                              mode='min',\n",
    "                                              every_n_epochs=1)"
   ]
  },
  {
   "cell_type": "code",
   "execution_count": null,
   "metadata": {
    "execution": {
     "iopub.execute_input": "2023-11-30T16:18:14.693630Z",
     "iopub.status.busy": "2023-11-30T16:18:14.691354Z",
     "iopub.status.idle": "2023-11-30T16:18:14.800950Z",
     "shell.execute_reply": "2023-11-30T16:18:14.800104Z",
     "shell.execute_reply.started": "2023-11-30T16:18:14.693591Z"
    },
    "trusted": true
   },
   "outputs": [],
   "source": [
    "callbacks=[]"
   ]
  },
  {
   "cell_type": "code",
   "execution_count": null,
   "metadata": {
    "execution": {
     "iopub.execute_input": "2023-11-30T16:18:14.802965Z",
     "iopub.status.busy": "2023-11-30T16:18:14.802522Z",
     "iopub.status.idle": "2023-11-30T16:18:14.913457Z",
     "shell.execute_reply": "2023-11-30T16:18:14.912323Z",
     "shell.execute_reply.started": "2023-11-30T16:18:14.802928Z"
    },
    "trusted": true
   },
   "outputs": [],
   "source": [
    "last_ckpt_save = ModelCheckpoint(dirpath=f\"checkpoints/{cfg.general.name}\", filename='last', every_n_epochs=1)\n",
    "callbacks.append(checkpoint_callback)\n",
    "callbacks.append(last_ckpt_save)"
   ]
  },
  {
   "cell_type": "code",
   "execution_count": null,
   "metadata": {
    "execution": {
     "iopub.execute_input": "2023-11-30T16:18:14.915428Z",
     "iopub.status.busy": "2023-11-30T16:18:14.914992Z",
     "iopub.status.idle": "2023-11-30T16:18:15.029036Z",
     "shell.execute_reply": "2023-11-30T16:18:15.028356Z",
     "shell.execute_reply.started": "2023-11-30T16:18:14.915397Z"
    },
    "trusted": true
   },
   "outputs": [],
   "source": [
    "import wandb\n",
    "wandb.login(key=wandb_key)"
   ]
  },
  {
   "cell_type": "code",
   "execution_count": null,
   "metadata": {
    "execution": {
     "iopub.execute_input": "2023-11-30T16:18:15.030657Z",
     "iopub.status.busy": "2023-11-30T16:18:15.030200Z",
     "iopub.status.idle": "2023-11-30T16:18:15.190178Z",
     "shell.execute_reply": "2023-11-30T16:18:15.189195Z",
     "shell.execute_reply.started": "2023-11-30T16:18:15.030632Z"
    },
    "trusted": true
   },
   "outputs": [],
   "source": [
    "trainer = Trainer(gradient_clip_val=cfg.train.clip_grad, # Needed to load old checkpoints\n",
    "                      accelerator='gpu' if torch.cuda.is_available() else 'cpu',\n",
    "                      devices=cfg.general.gpus,\n",
    "                      max_epochs=cfg.train.n_epochs,\n",
    "                      check_val_every_n_epoch=cfg.general.check_val_every_n_epochs,\n",
    "                      fast_dev_run=cfg.general.name == 'debug',\n",
    "                      enable_progress_bar=cfg.train.progress_bar,\n",
    "                      callbacks=callbacks,\n",
    "                      log_every_n_steps=50,\n",
    "                      )"
   ]
  },
  {
   "cell_type": "code",
   "execution_count": null,
   "metadata": {
    "execution": {
     "iopub.execute_input": "2023-11-30T16:18:15.191686Z",
     "iopub.status.busy": "2023-11-30T16:18:15.191358Z",
     "iopub.status.idle": "2023-11-30T16:18:15.295970Z",
     "shell.execute_reply": "2023-11-30T16:18:15.295067Z",
     "shell.execute_reply.started": "2023-11-30T16:18:15.191655Z"
    },
    "trusted": true
   },
   "outputs": [],
   "source": [
    "import tracemalloc"
   ]
  },
  {
   "cell_type": "code",
   "execution_count": null,
   "metadata": {
    "execution": {
     "iopub.execute_input": "2023-11-30T16:18:15.297569Z",
     "iopub.status.busy": "2023-11-30T16:18:15.297200Z",
     "iopub.status.idle": "2023-11-30T16:18:15.408901Z",
     "shell.execute_reply": "2023-11-30T16:18:15.407845Z",
     "shell.execute_reply.started": "2023-11-30T16:18:15.297532Z"
    },
    "trusted": true
   },
   "outputs": [],
   "source": [
    "# tracemalloc.start()"
   ]
  },
  {
   "cell_type": "code",
   "execution_count": null,
   "metadata": {
    "execution": {
     "iopub.execute_input": "2023-11-30T16:18:15.410421Z",
     "iopub.status.busy": "2023-11-30T16:18:15.410151Z"
    },
    "trusted": true
   },
   "outputs": [],
   "source": [
    "# FILEPATH: /f:/FYDP/EDM_Custom/colab_notebook.ipynb\n",
    "trainer.fit(model, datamodule=data_module)\n"
   ]
  }
 ],
 "metadata": {
  "kaggle": {
   "accelerator": "gpu",
   "dataSources": [],
   "dockerImageVersionId": 30588,
   "isGpuEnabled": true,
   "isInternetEnabled": true,
   "language": "python",
   "sourceType": "notebook"
  },
  "kernelspec": {
   "display_name": "Python 3",
   "language": "python",
   "name": "python3"
  },
  "language_info": {
   "codemirror_mode": {
    "name": "ipython",
    "version": 3
   },
   "file_extension": ".py",
   "mimetype": "text/x-python",
   "name": "python",
   "nbconvert_exporter": "python",
   "pygments_lexer": "ipython3",
   "version": "3.10.12"
  }
 },
 "nbformat": 4,
 "nbformat_minor": 4
}
